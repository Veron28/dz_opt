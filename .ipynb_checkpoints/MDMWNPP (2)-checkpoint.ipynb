{
 "cells": [
  {
   "cell_type": "code",
   "execution_count": 1,
   "id": "2a0f6a05",
   "metadata": {},
   "outputs": [],
   "source": [
    "import numpy as np\n",
    "import pandas as pd\n",
    "from operator import itemgetter\n",
    "import matplotlib.pyplot as plt\n",
    "import datetime"
   ]
  },
  {
   "cell_type": "code",
   "execution_count": 2,
   "id": "daf9b0ac",
   "metadata": {},
   "outputs": [],
   "source": [
    "import warnings\n",
    "warnings.filterwarnings('ignore')"
   ]
  },
  {
   "cell_type": "markdown",
   "id": "6bed930a",
   "metadata": {},
   "source": [
    "**Что добавлено/изменено:**\n",
    "* класс Individ теперь инициализируется с помощью vectors, везде дальше его инициализация исправлена\n",
    "* добавлена функция get_groups, считающая по вектору распределение по группам\n",
    "* добавила функцию get_candidates, которая позволяет глобально кандидатов выводить и считать вне функций\n",
    "* greedy_addition - добавление одного вектора в конец жадно\n",
    "* greedy_fill - жадное добавление до конца начиная с элемента start\n",
    "* результаты оптимизации шокируют: чем раньше начинаем жадно заполнять - тем лучше"
   ]
  },
  {
   "cell_type": "markdown",
   "id": "170aa836",
   "metadata": {},
   "source": [
    "# Исходные данные: "
   ]
  },
  {
   "cell_type": "code",
   "execution_count": 3,
   "id": "7e5e66ed",
   "metadata": {},
   "outputs": [],
   "source": [
    "from init_data import FlyData"
   ]
  },
  {
   "cell_type": "code",
   "execution_count": 5,
   "id": "9b027832",
   "metadata": {},
   "outputs": [],
   "source": [
    "imp = FlyData(\"/Users/ivankusenko/Downloads/ÐÑÑ",
    "Ð¾Ð´Ð½ÑÐµ Ð´Ð°Ð½Ð½ÑÐµ 2/ID.xls\")"
   ]
  },
  {
   "cell_type": "code",
   "execution_count": 6,
   "id": "c3d43efa",
   "metadata": {},
   "outputs": [],
   "source": [
    "vectors = imp.df_links"
   ]
  },
  {
   "cell_type": "code",
   "execution_count": 7,
   "id": "acf11e93",
   "metadata": {},
   "outputs": [
    {
     "data": {
      "text/plain": [
       "(2135, 98)"
      ]
     },
     "execution_count": 7,
     "metadata": {},
     "output_type": "execute_result"
    }
   ],
   "source": [
    "vectors.shape"
   ]
  },
  {
   "cell_type": "code",
   "execution_count": 8,
   "id": "284c273d",
   "metadata": {},
   "outputs": [
    {
     "data": {
      "text/plain": [
       "(2135, 94)"
      ]
     },
     "execution_count": 8,
     "metadata": {},
     "output_type": "execute_result"
    }
   ],
   "source": [
    "# множество векторов\n",
    "vectors = vectors.drop(list(set(imp.df_links.columns) - set(imp.ideal.columns)), axis = 1)\n",
    "vectors.shape"
   ]
  },
  {
   "cell_type": "code",
   "execution_count": 9,
   "id": "725f49b2",
   "metadata": {},
   "outputs": [
    {
     "data": {
      "text/plain": [
       "(6, 94)"
      ]
     },
     "execution_count": 9,
     "metadata": {},
     "output_type": "execute_result"
    }
   ],
   "source": [
    "imp.ideal.shape"
   ]
  },
  {
   "cell_type": "code",
   "execution_count": 10,
   "id": "53fd0239",
   "metadata": {},
   "outputs": [
    {
     "name": "stdout",
     "output_type": "stream",
     "text": [
      "94\n",
      "6\n",
      "2135\n",
      "94\n"
     ]
    }
   ],
   "source": [
    "m = imp.ideal.shape[-1] #размерность\n",
    "print(m)\n",
    "k = imp.ideal.shape[0] #количество групп\n",
    "print(k)\n",
    "n = imp.df_links.shape[0] #количество векторов\n",
    "print(n)\n",
    "weights = np.array(imp.weight)[0] # веса для цф\n",
    "print(len(weights))"
   ]
  },
  {
   "cell_type": "code",
   "execution_count": 11,
   "id": "efaeaa8e",
   "metadata": {},
   "outputs": [
    {
     "data": {
      "text/plain": [
       "(6, 94)"
      ]
     },
     "execution_count": 11,
     "metadata": {},
     "output_type": "execute_result"
    }
   ],
   "source": [
    "# идеальный вектор\n",
    "ideal_vector = np.array(imp.ideal)\n",
    "ideal_vector.shape"
   ]
  },
  {
   "cell_type": "code",
   "execution_count": 12,
   "id": "5fc59e67",
   "metadata": {},
   "outputs": [
    {
     "data": {
      "text/plain": [
       "(2135, 94)"
      ]
     },
     "execution_count": 12,
     "metadata": {},
     "output_type": "execute_result"
    }
   ],
   "source": [
    "vectors = np.array(vectors)\n",
    "vectors.shape"
   ]
  },
  {
   "cell_type": "markdown",
   "id": "237802e8",
   "metadata": {},
   "source": [
    "# 1. Генетический алгоритм"
   ]
  },
  {
   "cell_type": "markdown",
   "id": "5dfe7da0",
   "metadata": {},
   "source": [
    "### 1.0. Параметры"
   ]
  },
  {
   "cell_type": "code",
   "execution_count": 13,
   "id": "a2ff4865",
   "metadata": {},
   "outputs": [
    {
     "name": "stdout",
     "output_type": "stream",
     "text": [
      "100\n"
     ]
    }
   ],
   "source": [
    "p = 100 # количество особей в популяции\n",
    "print(p)\n",
    "r = 10 # параметр для кроссовера\n",
    "mu = 0.1 # параметр для мутации\n",
    "p_trans = 2*p # количество особей в промежуточной популяции\n",
    "cross_part = 0.85 # доля нового поколения, порожденная кроссовером\n",
    "nparents = int(p_trans * cross_part)"
   ]
  },
  {
   "cell_type": "markdown",
   "id": "2a4e6615",
   "metadata": {},
   "source": [
    "### 1.1. Representation and Initial population"
   ]
  },
  {
   "cell_type": "markdown",
   "id": "bc73bc65",
   "metadata": {},
   "source": [
    "Одна особь в популяции описывается вектором распределения размерности $n$. Координата $i$ этого вектора указывает на номер группы, в которую распределен $i$- ый вектор."
   ]
  },
  {
   "cell_type": "markdown",
   "id": "8356605f",
   "metadata": {},
   "source": [
    "Авторы предлагают два метода: случайную и частично случайную генерацию. Пока остановимся на случайной:"
   ]
  },
  {
   "cell_type": "code",
   "execution_count": 14,
   "id": "cc62ce30",
   "metadata": {},
   "outputs": [
    {
     "data": {
      "text/plain": [
       "array([0, 3, 3, ..., 3, 0, 1])"
      ]
     },
     "execution_count": 14,
     "metadata": {},
     "output_type": "execute_result"
    }
   ],
   "source": [
    "individual = np.random.randint(0, k, n) # особь\n",
    "individual"
   ]
  },
  {
   "cell_type": "markdown",
   "id": "94eb5a8d",
   "metadata": {},
   "source": [
    "### 1.2. The fitness value"
   ]
  },
  {
   "cell_type": "markdown",
   "id": "6bb2530f",
   "metadata": {},
   "source": [
    "В нашем случае это целевая функция. Считаем ее так: в каждой группе векторы складываются, а затем по каждой координате расчитывается квадрат отклонения значения этой координаты от соответствующей координаты идеального вектора. Целевая функция - это взвешенная сумма таких квадратов. "
   ]
  },
  {
   "cell_type": "code",
   "execution_count": 275,
   "id": "3c6a65af",
   "metadata": {},
   "outputs": [],
   "source": [
    "# # по индивиду вычисляем группы\n",
    "\n",
    "# #--------------изменила немного способ задания groups, чтобы не было лишнего внутреннего списка------------------------------\n",
    "# groups = np.array([[vectors[i] for i in range(len(vectors)) if individual[i] == group] for group in range(k)])\n",
    "# groups = np.array(groups[0])\n",
    "\n",
    "\n",
    "# #теперь считаем фитнес\n",
    "# of = 0\n",
    "# for group in groups:\n",
    "#     s = sum(group)\n",
    "#     of += sum((s * weights)**2)\n",
    "# of    "
   ]
  },
  {
   "cell_type": "code",
   "execution_count": 15,
   "id": "377215fe",
   "metadata": {},
   "outputs": [],
   "source": [
    "#По списку всех векторов и вектору распределений по группам, получим списки групп\n",
    "def get_groups(vectors, individual):\n",
    "    num_vect = len(vectors)\n",
    "    groups = [[vectors[i] for i in range(num_vect) if individual[i] == group] for group in range(k)]\n",
    "    return np.array(groups)"
   ]
  },
  {
   "cell_type": "code",
   "execution_count": 16,
   "id": "f6b3884b",
   "metadata": {},
   "outputs": [],
   "source": [
    "# оформим как класс\n",
    "class Individ:\n",
    "    def __init__(self, value, vectors):\n",
    "        self.value = value\n",
    "        self.vectors = vectors\n",
    "    def fitness(self):\n",
    "        groups = get_groups(self.vectors, self.value)\n",
    "        #groups = np.array([[self.vectors[i] for i in range(len(self.vectors)) if self.value[i] == group] for group in range(k)])\n",
    "        of = 0\n",
    "        i = 0\n",
    "        for group in groups:\n",
    "            s = sum(group)\n",
    "            of += sum(weights * ((1 - s/ideal_vector[i]) ** 2))\n",
    "            i += 1\n",
    "        return of"
   ]
  },
  {
   "cell_type": "code",
   "execution_count": 17,
   "id": "65b8b263",
   "metadata": {},
   "outputs": [],
   "source": [
    "groups = get_groups(vectors, individual)"
   ]
  },
  {
   "cell_type": "code",
   "execution_count": 18,
   "id": "3db33dcc",
   "metadata": {},
   "outputs": [
    {
     "data": {
      "text/plain": [
       "46.05217535855084"
      ]
     },
     "execution_count": 18,
     "metadata": {},
     "output_type": "execute_result"
    }
   ],
   "source": [
    "ind = Individ(individual, vectors)\n",
    "ind.fitness()"
   ]
  },
  {
   "cell_type": "markdown",
   "id": "bd55ca2a",
   "metadata": {},
   "source": [
    "### 1.2.1 Initial solution"
   ]
  },
  {
   "cell_type": "markdown",
   "id": "de23ca04",
   "metadata": {},
   "source": [
    "Предполагается, вектора 0,...,el-1 из vectors уже поставлены на места, значит определяем группу для вектора el. Так как построение групп не учитывает элементы после el+1, то такое построение корректно"
   ]
  },
  {
   "cell_type": "code",
   "execution_count": 19,
   "id": "bb758e4e",
   "metadata": {},
   "outputs": [],
   "source": [
    "#Жадно добавляет элемент в конец уже выбранным векторам\n",
    "def greedy_addition(individual, vectors, el):\n",
    "    min_fv = float('inf')\n",
    "    for group in range(k):\n",
    "        individual[el] = group\n",
    "        fv = Individ(individual, vectors[:el + 1]).fitness()\n",
    "        if fv < min_fv:\n",
    "            min_fv = fv\n",
    "            group_number = group\n",
    "    individual[el] = group\n",
    "    return individual"
   ]
  },
  {
   "cell_type": "code",
   "execution_count": 20,
   "id": "38cc4f35",
   "metadata": {},
   "outputs": [],
   "source": [
    "#Жадно заполняет вектор до конца начиная с элемента start\n",
    "def greedy_fill(individual, vectors, start):\n",
    "    for el in range(start, n):\n",
    "        individual = greedy_addition(individual, vectors, el)\n",
    "    return individual"
   ]
  },
  {
   "cell_type": "code",
   "execution_count": null,
   "id": "384939b5",
   "metadata": {},
   "outputs": [
    {
     "name": "stderr",
     "output_type": "stream",
     "text": [
      "\r",
      "  0%|                                                                                                                                                | 0/99 [00:00<?, ?it/s]"
     ]
    }
   ],
   "source": [
    "#grid search для начального элемента, с которого начинаем применять жадный алгоритм\n",
    "\n",
    "from tqdm import tqdm\n",
    "starts = np.arange(1,100)\n",
    "res = []\n",
    "for start in tqdm(starts):\n",
    "    population_values = np.random.randint(0, k, (p,n))\n",
    "    fv_before = [Individ(ind, vectors).fitness() for ind in population_values]\n",
    "    fv_after = list(map(lambda x: Individ(greedy_fill(x, vectors, start), vectors).fitness(), population_values))\n",
    "    res.append([start, (np.array(fv_after) - np.array(fv_before)).mean()])"
   ]
  },
  {
   "cell_type": "code",
   "execution_count": null,
   "id": "f4248e6c",
   "metadata": {},
   "outputs": [],
   "source": [
    "res = np.array(res)\n",
    "plt.plot(starts, res[:,1])\n",
    "plt.show()"
   ]
  },
  {
   "cell_type": "code",
   "execution_count": null,
   "id": "fa2701b0",
   "metadata": {},
   "outputs": [],
   "source": [
    "# строим начальную популяцию\n",
    "def get_initial_population(start):\n",
    "    population_values = np.random.randint(0, k, (p,n))\n",
    "    population = list(map(lambda x: Individ(greedy_fill(x, vectors, start), vectors), population_values))\n",
    "    return population"
   ]
  },
  {
   "cell_type": "code",
   "execution_count": null,
   "id": "d4574b87",
   "metadata": {},
   "outputs": [],
   "source": [
    "population = get_initial_population(n)"
   ]
  },
  {
   "cell_type": "markdown",
   "id": "9982f4c3",
   "metadata": {},
   "source": [
    "В среднем действительно улучшает жизнь, но считает долго! поэтому стартовое значение можно выбирать исходя из ограничений по времени, но чем раньше начинаем, тем лучше"
   ]
  },
  {
   "cell_type": "markdown",
   "id": "f072405e",
   "metadata": {},
   "source": [
    "### 1.3. Genetic operators"
   ]
  },
  {
   "cell_type": "markdown",
   "id": "b224e0b1",
   "metadata": {},
   "source": [
    "- Кроссовер - скрещиваются два индивида. Выбираются $r$ случайных индивидов из популяции и генерируется случайная величина $\\nu$ из распределения Бернулли. Если $\\nu$ равно 1, то из выбранных индивидов берется случайный. Иначе берется лучший. Так выбирается первый родитель. Второй выбирается аналогично. Далее выбирается случайное число $y$ от 0 до $m$. Делим двух индивидов на две части по координате $y$, далее индивиды меняются сформированными частями. "
   ]
  },
  {
   "cell_type": "code",
   "execution_count": null,
   "id": "29bd2edd",
   "metadata": {},
   "outputs": [],
   "source": [
    "population[2].fitness()"
   ]
  },
  {
   "cell_type": "code",
   "execution_count": null,
   "id": "6a0e6534",
   "metadata": {},
   "outputs": [],
   "source": [
    "def get_candidates():\n",
    "    candidates_index = np.random.choice(range(len(population)), r)\n",
    "    candidates = itemgetter(*candidates_index)(population)\n",
    "    return candidates"
   ]
  },
  {
   "cell_type": "code",
   "execution_count": null,
   "id": "1c246b49",
   "metadata": {},
   "outputs": [],
   "source": [
    "def choose_parent():\n",
    "    # выбираем кандидатов\n",
    "    #----candidates_index = np.random.choice(range(len(population)), r)\n",
    "    #----candidates = itemgetter(*candidates_index)(population)\n",
    "    \n",
    "    candidates = get_candidates()\n",
    "    \n",
    "    # бросаем монетку\n",
    "    nu = np.random.randint(0,2)\n",
    "    if nu == 1: # если единица, то случайный \n",
    "        p = candidates[np.random.randint(0,r)]\n",
    "    else: # иначе лучший\n",
    "        p = max(candidates, key = lambda i: i.fitness())\n",
    "    return p"
   ]
  },
  {
   "cell_type": "code",
   "execution_count": null,
   "id": "c0cab9c9",
   "metadata": {},
   "outputs": [],
   "source": [
    "def crossover(p1, p2):\n",
    "    y = np.random.randint(0, m)\n",
    "    ch1 = Individ(np.concatenate((p1.value[:y], p2.value[y:]), axis=0), vectors)\n",
    "    ch2 = Individ(np.concatenate((p2.value[:y], p1.value[y:]), axis=0), vectors)    \n",
    "    return ch1, ch2"
   ]
  },
  {
   "cell_type": "code",
   "execution_count": null,
   "id": "02ad9f31",
   "metadata": {},
   "outputs": [],
   "source": [
    "p1, p2 = choose_parent(), choose_parent()\n",
    "ch1, ch2 = crossover(p1, p2)"
   ]
  },
  {
   "cell_type": "markdown",
   "id": "6771113d",
   "metadata": {},
   "source": [
    "- Мутация - применяется к одному индивиду. В каждой координате индивида изменение происходит с вероятностью $p$. Изменение представляет собой смену значения $i \\in \\{0,...,k\\}$ на значение $j \\in \\{0,...,k\\}$."
   ]
  },
  {
   "cell_type": "code",
   "execution_count": null,
   "id": "459abcca",
   "metadata": {},
   "outputs": [],
   "source": [
    "def mutation(ind):\n",
    "    val = ind.value\n",
    "    for i in range(len(val)):\n",
    "        nu = np.random.random()\n",
    "        if nu <= mu:\n",
    "            new_c = np.random.randint(0, k)\n",
    "            val[i] = new_c    \n",
    "    return Individ(val, vectors)       "
   ]
  },
  {
   "cell_type": "code",
   "execution_count": null,
   "id": "aee4dea8",
   "metadata": {},
   "outputs": [],
   "source": [
    "candidates = get_candidates()\n",
    "ind = candidates[np.random.randint(0,r)]\n",
    "print(ind.value)\n",
    "new_ind = mutation(ind)\n",
    "print(new_ind.value)"
   ]
  },
  {
   "cell_type": "markdown",
   "id": "8d5fd582",
   "metadata": {},
   "source": [
    "### 1.4. New generation"
   ]
  },
  {
   "cell_type": "markdown",
   "id": "b44ccc49",
   "metadata": {},
   "source": [
    "cross_part - часть новой популяции, которая генерируется с помощью кроссовера. Остальная часть появляется с помощью мутаций. "
   ]
  },
  {
   "cell_type": "code",
   "execution_count": null,
   "id": "4d0c3ac9",
   "metadata": {},
   "outputs": [],
   "source": [
    "# дана популяция\n",
    "population_values = np.random.randint(0, k, (p,n))\n",
    "population = [Individ(val, vectors) for val in population_values]"
   ]
  },
  {
   "cell_type": "code",
   "execution_count": null,
   "id": "73089671",
   "metadata": {},
   "outputs": [],
   "source": [
    "def generate_population(population):    \n",
    "    new_population = []\n",
    "\n",
    "    for _ in range(nparents//2):\n",
    "        p1, p2 = choose_parent(), choose_parent()\n",
    "        ch1, ch2 = crossover(p1, p2)\n",
    "        new_population.append(ch1)\n",
    "        new_population.append(ch2)\n",
    "\n",
    "    for _ in range(int(p_trans - len(new_population))):\n",
    "        ind = candidates[np.random.randint(0,r)]\n",
    "        new_ind = mutation(ind)\n",
    "        new_population.append(new_ind)   \n",
    "        \n",
    "    return new_population    "
   ]
  },
  {
   "cell_type": "code",
   "execution_count": null,
   "id": "0dccbf6a",
   "metadata": {},
   "outputs": [],
   "source": [
    "new_population = generate_population(population)\n",
    "len(new_population)"
   ]
  },
  {
   "cell_type": "markdown",
   "id": "5a25c76d",
   "metadata": {},
   "source": [
    "### 1.5. Selection"
   ]
  },
  {
   "cell_type": "markdown",
   "id": "f936b057",
   "metadata": {},
   "source": [
    "Из промежуточного поколения отбираются $p$ лучших особей для последующего улучшения и генерации следующих поколений."
   ]
  },
  {
   "cell_type": "code",
   "execution_count": null,
   "id": "0a96d6df",
   "metadata": {},
   "outputs": [],
   "source": [
    "# new_population = generate_population(population)\n",
    "population = sorted(new_population, key = lambda i: i.fitness() )[:p]\n",
    "len(population)"
   ]
  },
  {
   "cell_type": "markdown",
   "id": "7ff940d0",
   "metadata": {},
   "source": [
    "### 1.6. Local improvement procedure"
   ]
  },
  {
   "cell_type": "markdown",
   "id": "330dfbf2",
   "metadata": {},
   "source": [
    "После каждого отбора для каждого индивида запускается локальная оптимизация. Она бывает трех видов: \n",
    "\n",
    "- 1-change : из индивида выбирается случайная позиция и значение по этой позиции меняется на другое (случайно выбранное). Если это улучшает фитнесс, изменение принимается\n",
    "\n",
    "- 2-change : из индивида выбираются две случайные позиции и значения на этих позициях меняются местами. Если это улучшает фитнесс, изменение принимается\n",
    "\n",
    "- 3-change : из индивида выбираются три случайные позиции и значения на этих позициях меняются местами (сдвигаются циклически). Если это улучшает фитнесс, изменение принимается\n",
    "\n",
    "Все три процесса применяются один за другим к каждому индивиду в популяции. "
   ]
  },
  {
   "cell_type": "code",
   "execution_count": 311,
   "id": "206f4f16",
   "metadata": {},
   "outputs": [],
   "source": [
    "def one_change(ind):\n",
    "    \n",
    "    # выбираем случайную позицию\n",
    "    val = ind.value\n",
    "    pos = np.random.randint(0, n)\n",
    "    old_group = val[pos]\n",
    "    \n",
    "    # выбираем новую группу\n",
    "    a = list(range(k))\n",
    "    a.remove(old_group)\n",
    "    new_group = np.random.choice(a)\n",
    "    \n",
    "    # формируем нового индивида\n",
    "    new_val = val.copy()\n",
    "    new_val[pos] = new_group\n",
    "    new_ind = Individ(new_val, vectors)\n",
    "    \n",
    "    # сравниваем цф\n",
    "    if new_ind.fitness() < ind.fitness():\n",
    "        return new_ind\n",
    "    else: return ind"
   ]
  },
  {
   "cell_type": "code",
   "execution_count": 312,
   "id": "6451663e",
   "metadata": {},
   "outputs": [
    {
     "name": "stdout",
     "output_type": "stream",
     "text": [
      "45.81347054131835\n",
      "45.81188947035251\n"
     ]
    }
   ],
   "source": [
    "old = population[1]\n",
    "new = one_change(old)\n",
    "print(old.fitness())\n",
    "print(new.fitness())"
   ]
  },
  {
   "cell_type": "code",
   "execution_count": 313,
   "id": "8b5e7414",
   "metadata": {},
   "outputs": [],
   "source": [
    "def two_change(ind):\n",
    "    \n",
    "    # выбираем две случайные позиции\n",
    "    val = ind.value\n",
    "    pos1, pos2 = np.random.randint(0, n, 2)\n",
    "    g1, g2 = val[pos1], val[pos2]\n",
    "    \n",
    "    # формируем нового индивида\n",
    "    new_val = val.copy()\n",
    "    new_val[pos1] = g2\n",
    "    new_val[pos2] = g1\n",
    "    new_ind = Individ(new_val, vectors)\n",
    "    \n",
    "    # сравниваем цф\n",
    "    if new_ind.fitness() < ind.fitness():\n",
    "        return new_ind\n",
    "    else: return ind"
   ]
  },
  {
   "cell_type": "code",
   "execution_count": 314,
   "id": "6420a4c9",
   "metadata": {},
   "outputs": [
    {
     "name": "stdout",
     "output_type": "stream",
     "text": [
      "45.81347054131835\n",
      "45.804857943627\n"
     ]
    }
   ],
   "source": [
    "old = population[2]\n",
    "new = one_change(old)\n",
    "print(old.fitness())\n",
    "print(new.fitness())"
   ]
  },
  {
   "cell_type": "code",
   "execution_count": 315,
   "id": "e2bd4007",
   "metadata": {},
   "outputs": [],
   "source": [
    "def three_change(ind):\n",
    "    \n",
    "    # выбираем три случайные позиции\n",
    "    val = ind.value\n",
    "    pos1, pos2, pos3 = np.random.randint(0, n, 3)\n",
    "    g1, g2, g3 = val[pos1], val[pos2], val[pos3] \n",
    "    \n",
    "    # формируем нового индивида\n",
    "    new_val = val.copy()\n",
    "    new_val[pos1] = g2\n",
    "    new_val[pos2] = g3\n",
    "    new_val[pos3] = g1\n",
    "    new_ind = Individ(new_val, vectors)\n",
    "    \n",
    "    # сравниваем цф\n",
    "    if new_ind.fitness() < ind.fitness():\n",
    "        return new_ind\n",
    "    else: return ind"
   ]
  },
  {
   "cell_type": "code",
   "execution_count": 316,
   "id": "dfda0467",
   "metadata": {},
   "outputs": [
    {
     "name": "stdout",
     "output_type": "stream",
     "text": [
      "45.81347054131835\n",
      "45.81211104368494\n"
     ]
    }
   ],
   "source": [
    "old = population[3]\n",
    "new = one_change(old)\n",
    "print(old.fitness())\n",
    "print(new.fitness())"
   ]
  },
  {
   "cell_type": "code",
   "execution_count": 317,
   "id": "bb52ba18",
   "metadata": {},
   "outputs": [],
   "source": [
    "# все вместе\n",
    "def local_search(ind):\n",
    "    ind = one_change(ind)\n",
    "    ind = two_change(ind)\n",
    "    ind = three_change(ind)\n",
    "    return ind"
   ]
  },
  {
   "cell_type": "code",
   "execution_count": 318,
   "id": "f1a649fc",
   "metadata": {},
   "outputs": [
    {
     "name": "stdout",
     "output_type": "stream",
     "text": [
      "45.81347054131835\n",
      "45.80949413185179\n"
     ]
    }
   ],
   "source": [
    "old = population[3]\n",
    "new = local_search(old)\n",
    "print(old.fitness())\n",
    "print(new.fitness())"
   ]
  },
  {
   "cell_type": "markdown",
   "id": "dc9e1810",
   "metadata": {},
   "source": [
    "### 1.7. Go"
   ]
  },
  {
   "cell_type": "code",
   "execution_count": 325,
   "id": "da03db27",
   "metadata": {},
   "outputs": [
    {
     "name": "stdout",
     "output_type": "stream",
     "text": [
      "На жадный алгоритм ушло 44 секунд\n",
      "На генетический алгоритм ушло 127 секунд\n",
      "Всего 11 итераций\n"
     ]
    }
   ],
   "source": [
    "iter_n = 10 # количество итераций алгоритма\n",
    "\n",
    "# начальная популяция генерируется с помощью случайной генерации + жадного алгоритма\n",
    "before = datetime.datetime.now()\n",
    "population = get_initial_population(n-10)\n",
    "after = datetime.datetime.now()  \n",
    "\n",
    "print(f'На жадный алгоритм ушло {(after - before).seconds} секунд')\n",
    "\n",
    "best = max(population, key = lambda i: i.fitness() )\n",
    "fitness_vals = [best.fitness()]\n",
    "\n",
    "before = datetime.datetime.now()\n",
    "\n",
    "for _ in range(iter_n):\n",
    "    # генерируем новую популяцию\n",
    "    new_population = generate_population(population)\n",
    "    population = sorted(new_population, key = lambda i: i.fitness() )[:p]\n",
    "    \n",
    "    #улучшаем новую популяцию\n",
    "    population = [local_search(ind) for ind in population]\n",
    "    \n",
    "    # давайте на каждом шаге смотреть, какой будет фитнес у лучшего представителя\n",
    "    best = max(population, key = lambda i: i.fitness() )\n",
    "    best_f = best.fitness()\n",
    "    \n",
    "    #критерий останова\n",
    "    if abs(best_f - fitness_vals[-1]) < 10**(-5):\n",
    "        break\n",
    "    else:\n",
    "        fitness_vals.append(best_f)\n",
    "        \n",
    "after = datetime.datetime.now()         \n",
    "    \n",
    "print(f'На генетический алгоритм ушло {(after - before).seconds} секунд')\n",
    "print(f'Всего {len(fitness_vals)} итераций')"
   ]
  },
  {
   "cell_type": "code",
   "execution_count": 326,
   "id": "490b287f",
   "metadata": {},
   "outputs": [
    {
     "data": {
      "image/png": "[encoded data removed]",
      "text/plain": [
       "<Figure size 432x288 with 1 Axes>"
      ]
     },
     "metadata": {
      "needs_background": "light"
     },
     "output_type": "display_data"
    }
   ],
   "source": [
    "plt.plot(range(len(fitness_vals)), fitness_vals)\n",
    "plt.plot(range(len(fitness_vals)), fitness_vals, 'ro')\n",
    "plt.ylabel('fitness')\n",
    "plt.xlabel('#iter')\n",
    "plt.show()"
   ]
  },
  {
   "cell_type": "code",
   "execution_count": null,
   "id": "f2686787",
   "metadata": {},
   "outputs": [],
   "source": []
  }
 ],
 "metadata": {
  "kernelspec": {
   "display_name": "Python 3 (ipykernel)",
   "language": "python",
   "name": "python3"
  },
  "language_info": {
   "codemirror_mode": {
    "name": "ipython",
    "version": 3
   },
   "file_extension": ".py",
   "mimetype": "text/x-python",
   "name": "python",
   "nbconvert_exporter": "python",
   "pygments_lexer": "ipython3",
   "version": "3.9.10"
  }
 },
 "nbformat": 4,
 "nbformat_minor": 5
}
