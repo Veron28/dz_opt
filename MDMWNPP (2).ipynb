{
 "cells": [
  {
   "cell_type": "code",
   "execution_count": 1,
   "id": "2a0f6a05",
   "metadata": {},
   "outputs": [],
   "source": [
    "import numpy as np\n",
    "import pandas as pd\n",
    "from operator import itemgetter\n",
    "import matplotlib.pyplot as plt\n",
    "import datetime"
   ]
  },
  {
   "cell_type": "code",
   "execution_count": 2,
   "id": "daf9b0ac",
   "metadata": {},
   "outputs": [],
   "source": [
    "import warnings\n",
    "warnings.filterwarnings('ignore')"
   ]
  },
  {
   "cell_type": "markdown",
   "id": "6bed930a",
   "metadata": {},
   "source": [
    "**Что добавлено/изменено:**\n",
    "* класс Individ теперь инициализируется с помощью vectors, везде дальше его инициализация исправлена\n",
    "* добавлена функция get_groups, считающая по вектору распределение по группам\n",
    "* добавила функцию get_candidates, которая позволяет глобально кандидатов выводить и считать вне функций\n",
    "* greedy_addition - добавление одного вектора в конец жадно\n",
    "* greedy_fill - жадное добавление до конца начиная с элемента start\n",
    "* результаты оптимизации шокируют: чем раньше начинаем жадно заполнять - тем лучше"
   ]
  },
  {
   "cell_type": "markdown",
   "id": "170aa836",
   "metadata": {},
   "source": [
    "# Исходные данные: "
   ]
  },
  {
   "cell_type": "code",
   "execution_count": 9,
   "id": "7e5e66ed",
   "metadata": {},
   "outputs": [],
   "source": [
    "from init_data import FlyData"
   ]
  },
  {
   "cell_type": "code",
   "execution_count": 10,
   "id": "9b027832",
   "metadata": {},
   "outputs": [],
   "source": [
    "imp = FlyData(\"/Users/ivankusenko/Downloads/ÐÑÑ",
    "Ð¾Ð´Ð½ÑÐµ Ð´Ð°Ð½Ð½ÑÐµ 2/ID.xls\")"
   ]
  },
  {
   "cell_type": "code",
   "execution_count": 74,
   "id": "e9f7b43f",
   "metadata": {},
   "outputs": [
    {
     "data": {
      "text/plain": [
       "array([[0.05982906, 0.05982906, 0.05982906, 0.04273504, 0.04273504,\n",
       "        0.04273504, 0.02136752, 0.02136752, 0.02136752, 0.00854701,\n",
       "        0.01282051, 0.01282051, 0.01282051, 0.01282051, 0.01282051,\n",
       "        0.01282051, 0.01282051, 0.01282051, 0.01282051, 0.01282051,\n",
       "        0.01282051, 0.01282051, 0.01282051, 0.01282051, 0.01282051,\n",
       "        0.01282051, 0.01282051, 0.01282051, 0.01282051, 0.01282051,\n",
       "        0.01282051, 0.01282051, 0.01282051, 0.01282051, 0.01282051,\n",
       "        0.01282051, 0.01282051, 0.01282051, 0.01282051, 0.01282051,\n",
       "        0.01282051, 0.00213675, 0.00213675, 0.0042735 , 0.0042735 ,\n",
       "        0.0042735 , 0.0042735 , 0.0042735 , 0.0042735 , 0.0042735 ,\n",
       "        0.0042735 , 0.0042735 , 0.0042735 , 0.0042735 , 0.0042735 ,\n",
       "        0.0042735 , 0.0042735 , 0.0042735 , 0.0042735 , 0.0042735 ,\n",
       "        0.0042735 , 0.0042735 , 0.0042735 , 0.0042735 , 0.0042735 ,\n",
       "        0.0042735 , 0.0042735 , 0.0042735 , 0.0042735 , 0.0042735 ,\n",
       "        0.0042735 , 0.0042735 , 0.0042735 , 0.0042735 , 0.0042735 ,\n",
       "        0.0042735 , 0.0042735 , 0.0042735 , 0.0042735 , 0.0042735 ,\n",
       "        0.0042735 , 0.0042735 , 0.0042735 , 0.0042735 , 0.0042735 ,\n",
       "        0.0042735 , 0.0042735 , 0.0042735 , 0.0042735 , 0.0042735 ,\n",
       "        0.0042735 , 0.0042735 , 0.0042735 , 0.0042735 ]])"
      ]
     },
     "execution_count": 74,
     "metadata": {},
     "output_type": "execute_result"
    }
   ],
   "source": [
    "imp.weight.values"
   ]
  },
  {
   "cell_type": "code",
   "execution_count": 11,
   "id": "c3d43efa",
   "metadata": {},
   "outputs": [],
   "source": [
    "vectors = imp.df_links"
   ]
  },
  {
   "cell_type": "code",
   "execution_count": 12,
   "id": "a1479d55",
   "metadata": {},
   "outputs": [
    {
     "data": {
      "text/html": [
       "<div>\n",
       "<style scoped>\n",
       "    .dataframe tbody tr th:only-of-type {\n",
       "        vertical-align: middle;\n",
       "    }\n",
       "\n",
       "    .dataframe tbody tr th {\n",
       "        vertical-align: top;\n",
       "    }\n",
       "\n",
       "    .dataframe thead th {\n",
       "        text-align: right;\n",
       "    }\n",
       "</style>\n",
       "<table border=\"1\" class=\"dataframe\">\n",
       "  <thead>\n",
       "    <tr style=\"text-align: right;\">\n",
       "      <th></th>\n",
       "      <th>День месяца_1</th>\n",
       "      <th>День месяца_10</th>\n",
       "      <th>День месяца_11</th>\n",
       "      <th>День месяца_12</th>\n",
       "      <th>День месяца_13</th>\n",
       "      <th>День месяца_14</th>\n",
       "      <th>День месяца_15</th>\n",
       "      <th>День месяца_16</th>\n",
       "      <th>День месяца_17</th>\n",
       "      <th>День месяца_18</th>\n",
       "      <th>...</th>\n",
       "      <th>Ночной полет</th>\n",
       "      <th>Время полета_ВВЛ</th>\n",
       "      <th>Время полета_МВЛ</th>\n",
       "      <th>Время полета_СНГ</th>\n",
       "      <th>Время полета(Ночной)_ВВЛ</th>\n",
       "      <th>Время полета(Ночной)_МВЛ</th>\n",
       "      <th>Время полета(Ночной)_СНГ</th>\n",
       "      <th>Экипаж_ВВЛ</th>\n",
       "      <th>Экипаж_МВЛ</th>\n",
       "      <th>Экипаж_СНГ</th>\n",
       "    </tr>\n",
       "  </thead>\n",
       "  <tbody>\n",
       "    <tr>\n",
       "      <th>0</th>\n",
       "      <td>11.0</td>\n",
       "      <td>11.5</td>\n",
       "      <td>11.166667</td>\n",
       "      <td>11.666667</td>\n",
       "      <td>11.666667</td>\n",
       "      <td>12.166667</td>\n",
       "      <td>11.0</td>\n",
       "      <td>11.333333</td>\n",
       "      <td>11.5</td>\n",
       "      <td>11.166667</td>\n",
       "      <td>...</td>\n",
       "      <td>96.333333</td>\n",
       "      <td>4106.145975</td>\n",
       "      <td>2014.032483</td>\n",
       "      <td>641.908674</td>\n",
       "      <td>813.965239</td>\n",
       "      <td>1009.977568</td>\n",
       "      <td>41.650721</td>\n",
       "      <td>791.680293</td>\n",
       "      <td>304.451896</td>\n",
       "      <td>76.359654</td>\n",
       "    </tr>\n",
       "    <tr>\n",
       "      <th>1</th>\n",
       "      <td>11.0</td>\n",
       "      <td>11.5</td>\n",
       "      <td>11.166667</td>\n",
       "      <td>11.666667</td>\n",
       "      <td>11.666667</td>\n",
       "      <td>12.166667</td>\n",
       "      <td>11.0</td>\n",
       "      <td>11.333333</td>\n",
       "      <td>11.5</td>\n",
       "      <td>11.166667</td>\n",
       "      <td>...</td>\n",
       "      <td>96.333333</td>\n",
       "      <td>4017.834727</td>\n",
       "      <td>1970.687440</td>\n",
       "      <td>628.126812</td>\n",
       "      <td>796.459216</td>\n",
       "      <td>988.241314</td>\n",
       "      <td>40.756474</td>\n",
       "      <td>774.653554</td>\n",
       "      <td>297.899628</td>\n",
       "      <td>74.720203</td>\n",
       "    </tr>\n",
       "    <tr>\n",
       "      <th>2</th>\n",
       "      <td>11.0</td>\n",
       "      <td>11.5</td>\n",
       "      <td>11.166667</td>\n",
       "      <td>11.666667</td>\n",
       "      <td>11.666667</td>\n",
       "      <td>12.166667</td>\n",
       "      <td>11.0</td>\n",
       "      <td>11.333333</td>\n",
       "      <td>11.5</td>\n",
       "      <td>11.166667</td>\n",
       "      <td>...</td>\n",
       "      <td>96.333333</td>\n",
       "      <td>4251.041838</td>\n",
       "      <td>2084.930190</td>\n",
       "      <td>664.527762</td>\n",
       "      <td>842.688084</td>\n",
       "      <td>1045.530665</td>\n",
       "      <td>43.118377</td>\n",
       "      <td>819.616757</td>\n",
       "      <td>315.169171</td>\n",
       "      <td>79.050358</td>\n",
       "    </tr>\n",
       "    <tr>\n",
       "      <th>3</th>\n",
       "      <td>11.0</td>\n",
       "      <td>11.5</td>\n",
       "      <td>11.166667</td>\n",
       "      <td>11.666667</td>\n",
       "      <td>11.666667</td>\n",
       "      <td>12.166667</td>\n",
       "      <td>11.0</td>\n",
       "      <td>11.333333</td>\n",
       "      <td>11.5</td>\n",
       "      <td>11.166667</td>\n",
       "      <td>...</td>\n",
       "      <td>96.333333</td>\n",
       "      <td>4162.403511</td>\n",
       "      <td>2041.417142</td>\n",
       "      <td>650.640694</td>\n",
       "      <td>825.117224</td>\n",
       "      <td>1023.710162</td>\n",
       "      <td>42.217304</td>\n",
       "      <td>802.526956</td>\n",
       "      <td>308.591507</td>\n",
       "      <td>77.398391</td>\n",
       "    </tr>\n",
       "    <tr>\n",
       "      <th>4</th>\n",
       "      <td>11.0</td>\n",
       "      <td>11.5</td>\n",
       "      <td>11.166667</td>\n",
       "      <td>11.666667</td>\n",
       "      <td>11.666667</td>\n",
       "      <td>12.166667</td>\n",
       "      <td>11.0</td>\n",
       "      <td>11.333333</td>\n",
       "      <td>11.5</td>\n",
       "      <td>11.166667</td>\n",
       "      <td>...</td>\n",
       "      <td>96.333333</td>\n",
       "      <td>4033.534504</td>\n",
       "      <td>1978.415626</td>\n",
       "      <td>630.546528</td>\n",
       "      <td>799.571398</td>\n",
       "      <td>992.116770</td>\n",
       "      <td>40.913479</td>\n",
       "      <td>777.680530</td>\n",
       "      <td>299.067862</td>\n",
       "      <td>75.008045</td>\n",
       "    </tr>\n",
       "    <tr>\n",
       "      <th>5</th>\n",
       "      <td>11.0</td>\n",
       "      <td>11.5</td>\n",
       "      <td>11.166667</td>\n",
       "      <td>11.666667</td>\n",
       "      <td>11.666667</td>\n",
       "      <td>12.166667</td>\n",
       "      <td>11.0</td>\n",
       "      <td>11.333333</td>\n",
       "      <td>11.5</td>\n",
       "      <td>11.166667</td>\n",
       "      <td>...</td>\n",
       "      <td>96.333333</td>\n",
       "      <td>4272.956111</td>\n",
       "      <td>2095.850453</td>\n",
       "      <td>667.999529</td>\n",
       "      <td>847.032172</td>\n",
       "      <td>1051.006853</td>\n",
       "      <td>43.343645</td>\n",
       "      <td>823.841911</td>\n",
       "      <td>316.819937</td>\n",
       "      <td>79.463349</td>\n",
       "    </tr>\n",
       "  </tbody>\n",
       "</table>\n",
       "<p>6 rows × 94 columns</p>\n",
       "</div>"
      ],
      "text/plain": [
       "   День месяца_1  День месяца_10  День месяца_11  День месяца_12  \\\n",
       "0           11.0            11.5       11.166667       11.666667   \n",
       "1           11.0            11.5       11.166667       11.666667   \n",
       "2           11.0            11.5       11.166667       11.666667   \n",
       "3           11.0            11.5       11.166667       11.666667   \n",
       "4           11.0            11.5       11.166667       11.666667   \n",
       "5           11.0            11.5       11.166667       11.666667   \n",
       "\n",
       "   День месяца_13  День месяца_14  День месяца_15  День месяца_16  \\\n",
       "0       11.666667       12.166667            11.0       11.333333   \n",
       "1       11.666667       12.166667            11.0       11.333333   \n",
       "2       11.666667       12.166667            11.0       11.333333   \n",
       "3       11.666667       12.166667            11.0       11.333333   \n",
       "4       11.666667       12.166667            11.0       11.333333   \n",
       "5       11.666667       12.166667            11.0       11.333333   \n",
       "\n",
       "   День месяца_17  День месяца_18  ...  Ночной полет  Время полета_ВВЛ  \\\n",
       "0            11.5       11.166667  ...     96.333333       4106.145975   \n",
       "1            11.5       11.166667  ...     96.333333       4017.834727   \n",
       "2            11.5       11.166667  ...     96.333333       4251.041838   \n",
       "3            11.5       11.166667  ...     96.333333       4162.403511   \n",
       "4            11.5       11.166667  ...     96.333333       4033.534504   \n",
       "5            11.5       11.166667  ...     96.333333       4272.956111   \n",
       "\n",
       "   Время полета_МВЛ  Время полета_СНГ  Время полета(Ночной)_ВВЛ  \\\n",
       "0       2014.032483        641.908674                813.965239   \n",
       "1       1970.687440        628.126812                796.459216   \n",
       "2       2084.930190        664.527762                842.688084   \n",
       "3       2041.417142        650.640694                825.117224   \n",
       "4       1978.415626        630.546528                799.571398   \n",
       "5       2095.850453        667.999529                847.032172   \n",
       "\n",
       "   Время полета(Ночной)_МВЛ  Время полета(Ночной)_СНГ  Экипаж_ВВЛ  Экипаж_МВЛ  \\\n",
       "0               1009.977568                 41.650721  791.680293  304.451896   \n",
       "1                988.241314                 40.756474  774.653554  297.899628   \n",
       "2               1045.530665                 43.118377  819.616757  315.169171   \n",
       "3               1023.710162                 42.217304  802.526956  308.591507   \n",
       "4                992.116770                 40.913479  777.680530  299.067862   \n",
       "5               1051.006853                 43.343645  823.841911  316.819937   \n",
       "\n",
       "   Экипаж_СНГ  \n",
       "0   76.359654  \n",
       "1   74.720203  \n",
       "2   79.050358  \n",
       "3   77.398391  \n",
       "4   75.008045  \n",
       "5   79.463349  \n",
       "\n",
       "[6 rows x 94 columns]"
      ]
     },
     "execution_count": 12,
     "metadata": {},
     "output_type": "execute_result"
    }
   ],
   "source": [
    "imp.ideal"
   ]
  },
  {
   "cell_type": "code",
   "execution_count": 13,
   "id": "acf11e93",
   "metadata": {},
   "outputs": [],
   "source": [
    "vectors = np.array(imp.df_links[list(imp.ideal.columns)])"
   ]
  },
  {
   "cell_type": "code",
   "execution_count": 7,
   "id": "284c273d",
   "metadata": {},
   "outputs": [
    {
     "data": {
      "text/plain": [
       "(2135, 94)"
      ]
     },
     "execution_count": 7,
     "metadata": {},
     "output_type": "execute_result"
    }
   ],
   "source": [
    "# множество векторов\n",
    "# vectors = vectors.drop(list(set(imp.df_links.columns) - set(imp.ideal.columns)), axis = 1)\n",
    "# vectors.shape"
   ]
  },
  {
   "cell_type": "code",
   "execution_count": 8,
   "id": "d471fd7c",
   "metadata": {},
   "outputs": [
    {
     "ename": "KeyError",
     "evalue": "\"['Время полета в часах', 'Тип связи_СНГ', 'Тип связи_ВВЛ', 'Тип связи_МВЛ'] not found in axis\"",
     "output_type": "error",
     "traceback": [
      "\u001b[0;31m---------------------------------------------------------------------------\u001b[0m",
      "\u001b[0;31mKeyError\u001b[0m                                  Traceback (most recent call last)",
      "Input \u001b[0;32mIn [8]\u001b[0m, in \u001b[0;36m<module>\u001b[0;34m\u001b[0m\n\u001b[0;32m----> 1\u001b[0m \u001b[43mvectors\u001b[49m\u001b[38;5;241;43m.\u001b[39;49m\u001b[43mdrop\u001b[49m\u001b[43m(\u001b[49m\u001b[38;5;28;43mlist\u001b[39;49m\u001b[43m(\u001b[49m\u001b[38;5;28;43mset\u001b[39;49m\u001b[43m(\u001b[49m\u001b[43mimp\u001b[49m\u001b[38;5;241;43m.\u001b[39;49m\u001b[43mdf_links\u001b[49m\u001b[38;5;241;43m.\u001b[39;49m\u001b[43mcolumns\u001b[49m\u001b[43m)\u001b[49m\u001b[43m \u001b[49m\u001b[38;5;241;43m-\u001b[39;49m\u001b[43m \u001b[49m\u001b[38;5;28;43mset\u001b[39;49m\u001b[43m(\u001b[49m\u001b[43mimp\u001b[49m\u001b[38;5;241;43m.\u001b[39;49m\u001b[43mideal\u001b[49m\u001b[38;5;241;43m.\u001b[39;49m\u001b[43mcolumns\u001b[49m\u001b[43m)\u001b[49m\u001b[43m)\u001b[49m\u001b[43m,\u001b[49m\u001b[43m \u001b[49m\u001b[43maxis\u001b[49m\u001b[43m \u001b[49m\u001b[38;5;241;43m=\u001b[39;49m\u001b[43m \u001b[49m\u001b[38;5;241;43m1\u001b[39;49m\u001b[43m)\u001b[49m\n",
      "File \u001b[0;32m~/miniforge3/lib/python3.9/site-packages/pandas/util/_decorators.py:311\u001b[0m, in \u001b[0;36mdeprecate_nonkeyword_arguments.<locals>.decorate.<locals>.wrapper\u001b[0;34m(*args, **kwargs)\u001b[0m\n\u001b[1;32m    305\u001b[0m \u001b[38;5;28;01mif\u001b[39;00m \u001b[38;5;28mlen\u001b[39m(args) \u001b[38;5;241m>\u001b[39m num_allow_args:\n\u001b[1;32m    306\u001b[0m     warnings\u001b[38;5;241m.\u001b[39mwarn(\n\u001b[1;32m    307\u001b[0m         msg\u001b[38;5;241m.\u001b[39mformat(arguments\u001b[38;5;241m=\u001b[39marguments),\n\u001b[1;32m    308\u001b[0m         \u001b[38;5;167;01mFutureWarning\u001b[39;00m,\n\u001b[1;32m    309\u001b[0m         stacklevel\u001b[38;5;241m=\u001b[39mstacklevel,\n\u001b[1;32m    310\u001b[0m     )\n\u001b[0;32m--> 311\u001b[0m \u001b[38;5;28;01mreturn\u001b[39;00m \u001b[43mfunc\u001b[49m\u001b[43m(\u001b[49m\u001b[38;5;241;43m*\u001b[39;49m\u001b[43margs\u001b[49m\u001b[43m,\u001b[49m\u001b[43m \u001b[49m\u001b[38;5;241;43m*\u001b[39;49m\u001b[38;5;241;43m*\u001b[39;49m\u001b[43mkwargs\u001b[49m\u001b[43m)\u001b[49m\n",
      "File \u001b[0;32m~/miniforge3/lib/python3.9/site-packages/pandas/core/frame.py:4948\u001b[0m, in \u001b[0;36mDataFrame.drop\u001b[0;34m(self, labels, axis, index, columns, level, inplace, errors)\u001b[0m\n\u001b[1;32m   4800\u001b[0m \u001b[38;5;129m@deprecate_nonkeyword_arguments\u001b[39m(version\u001b[38;5;241m=\u001b[39m\u001b[38;5;28;01mNone\u001b[39;00m, allowed_args\u001b[38;5;241m=\u001b[39m[\u001b[38;5;124m\"\u001b[39m\u001b[38;5;124mself\u001b[39m\u001b[38;5;124m\"\u001b[39m, \u001b[38;5;124m\"\u001b[39m\u001b[38;5;124mlabels\u001b[39m\u001b[38;5;124m\"\u001b[39m])\n\u001b[1;32m   4801\u001b[0m \u001b[38;5;28;01mdef\u001b[39;00m \u001b[38;5;21mdrop\u001b[39m(\n\u001b[1;32m   4802\u001b[0m     \u001b[38;5;28mself\u001b[39m,\n\u001b[0;32m   (...)\u001b[0m\n\u001b[1;32m   4809\u001b[0m     errors: \u001b[38;5;28mstr\u001b[39m \u001b[38;5;241m=\u001b[39m \u001b[38;5;124m\"\u001b[39m\u001b[38;5;124mraise\u001b[39m\u001b[38;5;124m\"\u001b[39m,\n\u001b[1;32m   4810\u001b[0m ):\n\u001b[1;32m   4811\u001b[0m     \u001b[38;5;124;03m\"\"\"\u001b[39;00m\n\u001b[1;32m   4812\u001b[0m \u001b[38;5;124;03m    Drop specified labels from rows or columns.\u001b[39;00m\n\u001b[1;32m   4813\u001b[0m \n\u001b[0;32m   (...)\u001b[0m\n\u001b[1;32m   4946\u001b[0m \u001b[38;5;124;03m            weight  1.0     0.8\u001b[39;00m\n\u001b[1;32m   4947\u001b[0m \u001b[38;5;124;03m    \"\"\"\u001b[39;00m\n\u001b[0;32m-> 4948\u001b[0m     \u001b[38;5;28;01mreturn\u001b[39;00m \u001b[38;5;28;43msuper\u001b[39;49m\u001b[43m(\u001b[49m\u001b[43m)\u001b[49m\u001b[38;5;241;43m.\u001b[39;49m\u001b[43mdrop\u001b[49m\u001b[43m(\u001b[49m\n\u001b[1;32m   4949\u001b[0m \u001b[43m        \u001b[49m\u001b[43mlabels\u001b[49m\u001b[38;5;241;43m=\u001b[39;49m\u001b[43mlabels\u001b[49m\u001b[43m,\u001b[49m\n\u001b[1;32m   4950\u001b[0m \u001b[43m        \u001b[49m\u001b[43maxis\u001b[49m\u001b[38;5;241;43m=\u001b[39;49m\u001b[43maxis\u001b[49m\u001b[43m,\u001b[49m\n\u001b[1;32m   4951\u001b[0m \u001b[43m        \u001b[49m\u001b[43mindex\u001b[49m\u001b[38;5;241;43m=\u001b[39;49m\u001b[43mindex\u001b[49m\u001b[43m,\u001b[49m\n\u001b[1;32m   4952\u001b[0m \u001b[43m        \u001b[49m\u001b[43mcolumns\u001b[49m\u001b[38;5;241;43m=\u001b[39;49m\u001b[43mcolumns\u001b[49m\u001b[43m,\u001b[49m\n\u001b[1;32m   4953\u001b[0m \u001b[43m        \u001b[49m\u001b[43mlevel\u001b[49m\u001b[38;5;241;43m=\u001b[39;49m\u001b[43mlevel\u001b[49m\u001b[43m,\u001b[49m\n\u001b[1;32m   4954\u001b[0m \u001b[43m        \u001b[49m\u001b[43minplace\u001b[49m\u001b[38;5;241;43m=\u001b[39;49m\u001b[43minplace\u001b[49m\u001b[43m,\u001b[49m\n\u001b[1;32m   4955\u001b[0m \u001b[43m        \u001b[49m\u001b[43merrors\u001b[49m\u001b[38;5;241;43m=\u001b[39;49m\u001b[43merrors\u001b[49m\u001b[43m,\u001b[49m\n\u001b[1;32m   4956\u001b[0m \u001b[43m    \u001b[49m\u001b[43m)\u001b[49m\n",
      "File \u001b[0;32m~/miniforge3/lib/python3.9/site-packages/pandas/core/generic.py:4279\u001b[0m, in \u001b[0;36mNDFrame.drop\u001b[0;34m(self, labels, axis, index, columns, level, inplace, errors)\u001b[0m\n\u001b[1;32m   4277\u001b[0m \u001b[38;5;28;01mfor\u001b[39;00m axis, labels \u001b[38;5;129;01min\u001b[39;00m axes\u001b[38;5;241m.\u001b[39mitems():\n\u001b[1;32m   4278\u001b[0m     \u001b[38;5;28;01mif\u001b[39;00m labels \u001b[38;5;129;01mis\u001b[39;00m \u001b[38;5;129;01mnot\u001b[39;00m \u001b[38;5;28;01mNone\u001b[39;00m:\n\u001b[0;32m-> 4279\u001b[0m         obj \u001b[38;5;241m=\u001b[39m \u001b[43mobj\u001b[49m\u001b[38;5;241;43m.\u001b[39;49m\u001b[43m_drop_axis\u001b[49m\u001b[43m(\u001b[49m\u001b[43mlabels\u001b[49m\u001b[43m,\u001b[49m\u001b[43m \u001b[49m\u001b[43maxis\u001b[49m\u001b[43m,\u001b[49m\u001b[43m \u001b[49m\u001b[43mlevel\u001b[49m\u001b[38;5;241;43m=\u001b[39;49m\u001b[43mlevel\u001b[49m\u001b[43m,\u001b[49m\u001b[43m \u001b[49m\u001b[43merrors\u001b[49m\u001b[38;5;241;43m=\u001b[39;49m\u001b[43merrors\u001b[49m\u001b[43m)\u001b[49m\n\u001b[1;32m   4281\u001b[0m \u001b[38;5;28;01mif\u001b[39;00m inplace:\n\u001b[1;32m   4282\u001b[0m     \u001b[38;5;28mself\u001b[39m\u001b[38;5;241m.\u001b[39m_update_inplace(obj)\n",
      "File \u001b[0;32m~/miniforge3/lib/python3.9/site-packages/pandas/core/generic.py:4323\u001b[0m, in \u001b[0;36mNDFrame._drop_axis\u001b[0;34m(self, labels, axis, level, errors, consolidate, only_slice)\u001b[0m\n\u001b[1;32m   4321\u001b[0m         new_axis \u001b[38;5;241m=\u001b[39m axis\u001b[38;5;241m.\u001b[39mdrop(labels, level\u001b[38;5;241m=\u001b[39mlevel, errors\u001b[38;5;241m=\u001b[39merrors)\n\u001b[1;32m   4322\u001b[0m     \u001b[38;5;28;01melse\u001b[39;00m:\n\u001b[0;32m-> 4323\u001b[0m         new_axis \u001b[38;5;241m=\u001b[39m \u001b[43maxis\u001b[49m\u001b[38;5;241;43m.\u001b[39;49m\u001b[43mdrop\u001b[49m\u001b[43m(\u001b[49m\u001b[43mlabels\u001b[49m\u001b[43m,\u001b[49m\u001b[43m \u001b[49m\u001b[43merrors\u001b[49m\u001b[38;5;241;43m=\u001b[39;49m\u001b[43merrors\u001b[49m\u001b[43m)\u001b[49m\n\u001b[1;32m   4324\u001b[0m     indexer \u001b[38;5;241m=\u001b[39m axis\u001b[38;5;241m.\u001b[39mget_indexer(new_axis)\n\u001b[1;32m   4326\u001b[0m \u001b[38;5;66;03m# Case for non-unique axis\u001b[39;00m\n\u001b[1;32m   4327\u001b[0m \u001b[38;5;28;01melse\u001b[39;00m:\n",
      "File \u001b[0;32m~/miniforge3/lib/python3.9/site-packages/pandas/core/indexes/base.py:6644\u001b[0m, in \u001b[0;36mIndex.drop\u001b[0;34m(self, labels, errors)\u001b[0m\n\u001b[1;32m   6642\u001b[0m \u001b[38;5;28;01mif\u001b[39;00m mask\u001b[38;5;241m.\u001b[39many():\n\u001b[1;32m   6643\u001b[0m     \u001b[38;5;28;01mif\u001b[39;00m errors \u001b[38;5;241m!=\u001b[39m \u001b[38;5;124m\"\u001b[39m\u001b[38;5;124mignore\u001b[39m\u001b[38;5;124m\"\u001b[39m:\n\u001b[0;32m-> 6644\u001b[0m         \u001b[38;5;28;01mraise\u001b[39;00m \u001b[38;5;167;01mKeyError\u001b[39;00m(\u001b[38;5;124mf\u001b[39m\u001b[38;5;124m\"\u001b[39m\u001b[38;5;132;01m{\u001b[39;00m\u001b[38;5;28mlist\u001b[39m(labels[mask])\u001b[38;5;132;01m}\u001b[39;00m\u001b[38;5;124m not found in axis\u001b[39m\u001b[38;5;124m\"\u001b[39m)\n\u001b[1;32m   6645\u001b[0m     indexer \u001b[38;5;241m=\u001b[39m indexer[\u001b[38;5;241m~\u001b[39mmask]\n\u001b[1;32m   6646\u001b[0m \u001b[38;5;28;01mreturn\u001b[39;00m \u001b[38;5;28mself\u001b[39m\u001b[38;5;241m.\u001b[39mdelete(indexer)\n",
      "\u001b[0;31mKeyError\u001b[0m: \"['Время полета в часах', 'Тип связи_СНГ', 'Тип связи_ВВЛ', 'Тип связи_МВЛ'] not found in axis\""
     ]
    }
   ],
   "source": [
    "# vectors.drop(list(set(imp.df_links.columns) - set(imp.ideal.columns)), axis = 1)"
   ]
  },
  {
   "cell_type": "code",
   "execution_count": 31,
   "id": "d18c196f",
   "metadata": {},
   "outputs": [
    {
     "data": {
      "text/plain": [
       "array([[1, 0, 0, ..., 4, 0, 0],\n",
       "       [1, 0, 0, ..., 0, 4, 0],\n",
       "       [1, 0, 0, ..., 3, 0, 0],\n",
       "       ...,\n",
       "       [0, 0, 0, ..., 3, 0, 0],\n",
       "       [0, 0, 0, ..., 3, 0, 0],\n",
       "       [0, 0, 0, ..., 3, 0, 0]], dtype=object)"
      ]
     },
     "execution_count": 31,
     "metadata": {},
     "output_type": "execute_result"
    }
   ],
   "source": [
    "np.array(vectors)"
   ]
  },
  {
   "cell_type": "code",
   "execution_count": 8,
   "id": "725f49b2",
   "metadata": {},
   "outputs": [
    {
     "data": {
      "text/plain": [
       "(6, 94)"
      ]
     },
     "execution_count": 8,
     "metadata": {},
     "output_type": "execute_result"
    }
   ],
   "source": [
    "imp.ideal.shape"
   ]
  },
  {
   "cell_type": "code",
   "execution_count": 14,
   "id": "53fd0239",
   "metadata": {},
   "outputs": [
    {
     "name": "stdout",
     "output_type": "stream",
     "text": [
      "94\n",
      "6\n",
      "2135\n",
      "94\n"
     ]
    }
   ],
   "source": [
    "m = imp.ideal.shape[-1] #размерность\n",
    "print(m)\n",
    "k = imp.ideal.shape[0] #количество групп\n",
    "print(k)\n",
    "n = imp.df_links.shape[0] #количество векторов\n",
    "print(n)\n",
    "weights = np.array(imp.weight)[0] # веса для цф\n",
    "print(len(weights))"
   ]
  },
  {
   "cell_type": "code",
   "execution_count": 15,
   "id": "efaeaa8e",
   "metadata": {},
   "outputs": [
    {
     "data": {
      "text/plain": [
       "(6, 94)"
      ]
     },
     "execution_count": 15,
     "metadata": {},
     "output_type": "execute_result"
    }
   ],
   "source": [
    "# идеальный вектор\n",
    "ideal_vector = np.array(imp.ideal)\n",
    "ideal_vector.shape"
   ]
  },
  {
   "cell_type": "code",
   "execution_count": 11,
   "id": "5fc59e67",
   "metadata": {},
   "outputs": [
    {
     "data": {
      "text/plain": [
       "(2135, 94)"
      ]
     },
     "execution_count": 11,
     "metadata": {},
     "output_type": "execute_result"
    }
   ],
   "source": [
    "# vectors = np.array(vectors)\n",
    "# vectors.shape"
   ]
  },
  {
   "cell_type": "markdown",
   "id": "237802e8",
   "metadata": {},
   "source": [
    "# 1. Генетический алгоритм"
   ]
  },
  {
   "cell_type": "markdown",
   "id": "5dfe7da0",
   "metadata": {},
   "source": [
    "### 1.0. Параметры"
   ]
  },
  {
   "cell_type": "code",
   "execution_count": 16,
   "id": "a2ff4865",
   "metadata": {},
   "outputs": [
    {
     "name": "stdout",
     "output_type": "stream",
     "text": [
      "100\n"
     ]
    }
   ],
   "source": [
    "p = 100 # количество особей в популяции\n",
    "print(p)\n",
    "r = 10 # параметр для кроссовера\n",
    "mu = 0.1 # параметр для мутации\n",
    "p_trans = 2*p # количество особей в промежуточной популяции\n",
    "cross_part = 0.85 # доля нового поколения, порожденная кроссовером\n",
    "nparents = int(p_trans * cross_part)"
   ]
  },
  {
   "cell_type": "markdown",
   "id": "2a4e6615",
   "metadata": {},
   "source": [
    "### 1.1. Representation and Initial population"
   ]
  },
  {
   "cell_type": "markdown",
   "id": "bc73bc65",
   "metadata": {},
   "source": [
    "Одна особь в популяции описывается вектором распределения размерности $n$. Координата $i$ этого вектора указывает на номер группы, в которую распределен $i$- ый вектор."
   ]
  },
  {
   "cell_type": "markdown",
   "id": "8356605f",
   "metadata": {},
   "source": [
    "Авторы предлагают два метода: случайную и частично случайную генерацию. Пока остановимся на случайной:"
   ]
  },
  {
   "cell_type": "code",
   "execution_count": 17,
   "id": "cc62ce30",
   "metadata": {},
   "outputs": [
    {
     "data": {
      "text/plain": [
       "array([1, 5, 3, ..., 1, 4, 1])"
      ]
     },
     "execution_count": 17,
     "metadata": {},
     "output_type": "execute_result"
    }
   ],
   "source": [
    "individual = np.random.randint(0, k, n) # особь\n",
    "individual"
   ]
  },
  {
   "cell_type": "markdown",
   "id": "94eb5a8d",
   "metadata": {},
   "source": [
    "### 1.2. The fitness value"
   ]
  },
  {
   "cell_type": "markdown",
   "id": "6bb2530f",
   "metadata": {},
   "source": [
    "В нашем случае это целевая функция. Считаем ее так: в каждой группе векторы складываются, а затем по каждой координате расчитывается квадрат отклонения значения этой координаты от соответствующей координаты идеального вектора. Целевая функция - это взвешенная сумма таких квадратов. "
   ]
  },
  {
   "cell_type": "code",
   "execution_count": 275,
   "id": "3c6a65af",
   "metadata": {},
   "outputs": [],
   "source": [
    "# # по индивиду вычисляем группы\n",
    "\n",
    "# #--------------изменила немного способ задания groups, чтобы не было лишнего внутреннего списка------------------------------\n",
    "# groups = np.array([[vectors[i] for i in range(len(vectors)) if individual[i] == group] for group in range(k)])\n",
    "# groups = np.array(groups[0])\n",
    "\n",
    "\n",
    "# #теперь считаем фитнес\n",
    "# of = 0\n",
    "# for group in groups:\n",
    "#     s = sum(group)\n",
    "#     of += sum((s * weights)**2)\n",
    "# of    "
   ]
  },
  {
   "cell_type": "code",
   "execution_count": 18,
   "id": "377215fe",
   "metadata": {},
   "outputs": [],
   "source": [
    "#По списку всех векторов и вектору распределений по группам, получим списки групп\n",
    "def get_groups(vectors, individual):\n",
    "    num_vect = len(vectors)\n",
    "    groups = [[vectors[i] for i in range(num_vect) if individual[i] == group] for group in range(k)]\n",
    "    return np.array(groups)"
   ]
  },
  {
   "cell_type": "code",
   "execution_count": 15,
   "id": "4b12b969",
   "metadata": {},
   "outputs": [
    {
     "data": {
      "text/plain": [
       "array([0.05982906, 0.05982906, 0.05982906, 0.04273504, 0.04273504,\n",
       "       0.04273504, 0.02136752, 0.02136752, 0.02136752, 0.00854701,\n",
       "       0.01282051, 0.01282051, 0.01282051, 0.01282051, 0.01282051,\n",
       "       0.01282051, 0.01282051, 0.01282051, 0.01282051, 0.01282051,\n",
       "       0.01282051, 0.01282051, 0.01282051, 0.01282051, 0.01282051,\n",
       "       0.01282051, 0.01282051, 0.01282051, 0.01282051, 0.01282051,\n",
       "       0.01282051, 0.01282051, 0.01282051, 0.01282051, 0.01282051,\n",
       "       0.01282051, 0.01282051, 0.01282051, 0.01282051, 0.01282051,\n",
       "       0.01282051, 0.00213675, 0.00213675, 0.0042735 , 0.0042735 ,\n",
       "       0.0042735 , 0.0042735 , 0.0042735 , 0.0042735 , 0.0042735 ,\n",
       "       0.0042735 , 0.0042735 , 0.0042735 , 0.0042735 , 0.0042735 ,\n",
       "       0.0042735 , 0.0042735 , 0.0042735 , 0.0042735 , 0.0042735 ,\n",
       "       0.0042735 , 0.0042735 , 0.0042735 , 0.0042735 , 0.0042735 ,\n",
       "       0.0042735 , 0.0042735 , 0.0042735 , 0.0042735 , 0.0042735 ,\n",
       "       0.0042735 , 0.0042735 , 0.0042735 , 0.0042735 , 0.0042735 ,\n",
       "       0.0042735 , 0.0042735 , 0.0042735 , 0.0042735 , 0.0042735 ,\n",
       "       0.0042735 , 0.0042735 , 0.0042735 , 0.0042735 , 0.0042735 ,\n",
       "       0.0042735 , 0.0042735 , 0.0042735 , 0.0042735 , 0.0042735 ,\n",
       "       0.0042735 , 0.0042735 , 0.0042735 , 0.0042735 ])"
      ]
     },
     "execution_count": 15,
     "metadata": {},
     "output_type": "execute_result"
    }
   ],
   "source": [
    "weights"
   ]
  },
  {
   "cell_type": "code",
   "execution_count": 19,
   "id": "f6b3884b",
   "metadata": {},
   "outputs": [],
   "source": [
    "# оформим как класс\n",
    "class Individ:\n",
    "    def __init__(self, value, vectors):\n",
    "        self.value = value\n",
    "        self.vectors = vectors\n",
    "    def fitness(self):\n",
    "        groups = get_groups(self.vectors, self.value)\n",
    "        #groups = np.array([[self.vectors[i] for i in range(len(self.vectors)) if self.value[i] == group] for group in range(k)])\n",
    "        of = 0\n",
    "        i = 0\n",
    "        for group in groups:\n",
    "            s = sum(group)\n",
    "            of += sum(weights * ((1 - s/ideal_vector[i]) ** 2))\n",
    "            i += 1\n",
    "        return of"
   ]
  },
  {
   "cell_type": "code",
   "execution_count": 20,
   "id": "65b8b263",
   "metadata": {},
   "outputs": [],
   "source": [
    "groups = get_groups(vectors, individual)"
   ]
  },
  {
   "cell_type": "code",
   "execution_count": 21,
   "id": "3db33dcc",
   "metadata": {},
   "outputs": [
    {
     "data": {
      "text/plain": [
       "0.6172353509455709"
      ]
     },
     "execution_count": 21,
     "metadata": {},
     "output_type": "execute_result"
    }
   ],
   "source": [
    "ind = Individ(individual, vectors)\n",
    "ind.fitness()"
   ]
  },
  {
   "cell_type": "markdown",
   "id": "bd55ca2a",
   "metadata": {},
   "source": [
    "### 1.2.1 Initial solution"
   ]
  },
  {
   "cell_type": "markdown",
   "id": "de23ca04",
   "metadata": {},
   "source": [
    "Предполагается, вектора 0,...,el-1 из vectors уже поставлены на места, значит определяем группу для вектора el. Так как построение групп не учитывает элементы после el+1, то такое построение корректно"
   ]
  },
  {
   "cell_type": "code",
   "execution_count": 22,
   "id": "bb758e4e",
   "metadata": {},
   "outputs": [],
   "source": [
    "#Жадно добавляет элемент в конец уже выбранным векторам\n",
    "def greedy_addition(individual, vectors, el):\n",
    "    min_fv = float('inf')\n",
    "    for group in range(k):\n",
    "        individual[el] = group\n",
    "        fv = Individ(individual, vectors[:el + 1]).fitness()\n",
    "        if fv < min_fv:\n",
    "            min_fv = fv\n",
    "            group_number = group\n",
    "    return individual"
   ]
  },
  {
   "cell_type": "code",
   "execution_count": 23,
   "id": "38cc4f35",
   "metadata": {},
   "outputs": [],
   "source": [
    "#Жадно заполняет вектор до конца начиная с элемента start\n",
    "def greedy_fill(individual, vectors, start):\n",
    "    for el in range(start, n):\n",
    "        individual = greedy_addition(individual, vectors, el)\n",
    "    return individual"
   ]
  },
  {
   "cell_type": "code",
   "execution_count": 24,
   "id": "fa2701b0",
   "metadata": {},
   "outputs": [],
   "source": [
    "# строим начальную популяцию\n",
    "def get_initial_population(start):\n",
    "    population_values = np.random.randint(0, k, (p,n))\n",
    "    population = list(map(lambda x: Individ(greedy_fill(x, vectors, start), vectors), population_values))\n",
    "    return population"
   ]
  },
  {
   "cell_type": "code",
   "execution_count": 25,
   "id": "d4574b87",
   "metadata": {},
   "outputs": [],
   "source": [
    "population = get_initial_population(n)"
   ]
  },
  {
   "cell_type": "code",
   "execution_count": 67,
   "id": "089349b0",
   "metadata": {},
   "outputs": [
    {
     "data": {
      "text/plain": [
       "array([[4, 4, 0, ..., 1, 4, 5],\n",
       "       [2, 2, 5, ..., 4, 1, 5],\n",
       "       [5, 2, 1, ..., 5, 3, 5],\n",
       "       ...,\n",
       "       [3, 2, 3, ..., 5, 0, 0],\n",
       "       [0, 2, 1, ..., 0, 3, 3],\n",
       "       [3, 3, 3, ..., 4, 5, 4]])"
      ]
     },
     "execution_count": 67,
     "metadata": {},
     "output_type": "execute_result"
    }
   ],
   "source": [
    "population_values"
   ]
  },
  {
   "cell_type": "markdown",
   "id": "9982f4c3",
   "metadata": {},
   "source": [
    "В среднем действительно улучшает жизнь, но считает долго! поэтому стартовое значение можно выбирать исходя из ограничений по времени, но чем раньше начинаем, тем лучше"
   ]
  },
  {
   "cell_type": "markdown",
   "id": "f072405e",
   "metadata": {},
   "source": [
    "### 1.3. Genetic operators"
   ]
  },
  {
   "cell_type": "markdown",
   "id": "b224e0b1",
   "metadata": {},
   "source": [
    "- Кроссовер - скрещиваются два индивида. Выбираются $r$ случайных индивидов из популяции и генерируется случайная величина $\\nu$ из распределения Бернулли. Если $\\nu$ равно 1, то из выбранных индивидов берется случайный. Иначе берется лучший. Так выбирается первый родитель. Второй выбирается аналогично. Далее выбирается случайное число $y$ от 0 до $m$. Делим двух индивидов на две части по координате $y$, далее индивиды меняются сформированными частями. "
   ]
  },
  {
   "cell_type": "code",
   "execution_count": 26,
   "id": "29bd2edd",
   "metadata": {},
   "outputs": [
    {
     "data": {
      "text/plain": [
       "0.5410704500322052"
      ]
     },
     "execution_count": 26,
     "metadata": {},
     "output_type": "execute_result"
    }
   ],
   "source": [
    "population[2].fitness()"
   ]
  },
  {
   "cell_type": "code",
   "execution_count": 27,
   "id": "6a0e6534",
   "metadata": {},
   "outputs": [],
   "source": [
    "def get_candidates():\n",
    "    candidates_index = np.random.choice(range(len(population)), r)\n",
    "    candidates = itemgetter(*candidates_index)(population)\n",
    "    return candidates"
   ]
  },
  {
   "cell_type": "code",
   "execution_count": 28,
   "id": "1c246b49",
   "metadata": {},
   "outputs": [],
   "source": [
    "def choose_parent():\n",
    "    # выбираем кандидатов\n",
    "    #----candidates_index = np.random.choice(range(len(population)), r)\n",
    "    #----candidates = itemgetter(*candidates_index)(population)\n",
    "    \n",
    "    candidates = get_candidates()\n",
    "    \n",
    "    # бросаем монетку\n",
    "    nu = np.random.randint(0,2)\n",
    "    if nu == 1: # если единица, то случайный \n",
    "        p = candidates[np.random.randint(0,r)]\n",
    "    else: # иначе лучший\n",
    "        p = max(candidates, key = lambda i: i.fitness())\n",
    "    return p"
   ]
  },
  {
   "cell_type": "code",
   "execution_count": 29,
   "id": "c0cab9c9",
   "metadata": {},
   "outputs": [],
   "source": [
    "def crossover(p1, p2):\n",
    "    y = np.random.randint(0, m)\n",
    "    ch1 = Individ(np.concatenate((p1.value[:y], p2.value[y:]), axis=0), vectors)\n",
    "    ch2 = Individ(np.concatenate((p2.value[:y], p1.value[y:]), axis=0), vectors)    \n",
    "    return ch1, ch2"
   ]
  },
  {
   "cell_type": "code",
   "execution_count": 30,
   "id": "02ad9f31",
   "metadata": {},
   "outputs": [],
   "source": [
    "p1, p2 = choose_parent(), choose_parent()\n",
    "ch1, ch2 = crossover(p1, p2)"
   ]
  },
  {
   "cell_type": "markdown",
   "id": "6771113d",
   "metadata": {},
   "source": [
    "- Мутация - применяется к одному индивиду. В каждой координате индивида изменение происходит с вероятностью $p$. Изменение представляет собой смену значения $i \\in \\{0,...,k\\}$ на значение $j \\in \\{0,...,k\\}$."
   ]
  },
  {
   "cell_type": "code",
   "execution_count": 31,
   "id": "459abcca",
   "metadata": {},
   "outputs": [],
   "source": [
    "def mutation(ind):\n",
    "    val = ind.value\n",
    "    for i in range(len(val)):\n",
    "        nu = np.random.random()\n",
    "        if nu <= mu:\n",
    "            new_c = np.random.randint(0, k)\n",
    "            val[i] = new_c    \n",
    "    return Individ(val, vectors)       "
   ]
  },
  {
   "cell_type": "code",
   "execution_count": 32,
   "id": "aee4dea8",
   "metadata": {},
   "outputs": [
    {
     "name": "stdout",
     "output_type": "stream",
     "text": [
      "[5 5 5 ... 4 2 5]\n",
      "[5 5 5 ... 4 2 5]\n"
     ]
    }
   ],
   "source": [
    "candidates = get_candidates()\n",
    "ind = candidates[np.random.randint(0,r)]\n",
    "print(ind.value)\n",
    "new_ind = mutation(ind)\n",
    "print(new_ind.value)"
   ]
  },
  {
   "cell_type": "markdown",
   "id": "8d5fd582",
   "metadata": {},
   "source": [
    "### 1.4. New generation"
   ]
  },
  {
   "cell_type": "markdown",
   "id": "b44ccc49",
   "metadata": {},
   "source": [
    "cross_part - часть новой популяции, которая генерируется с помощью кроссовера. Остальная часть появляется с помощью мутаций. "
   ]
  },
  {
   "cell_type": "code",
   "execution_count": 33,
   "id": "4d0c3ac9",
   "metadata": {},
   "outputs": [],
   "source": [
    "# дана популяция\n",
    "population_values = np.random.randint(0, k, (p,n))\n",
    "population = [Individ(val, vectors) for val in population_values]"
   ]
  },
  {
   "cell_type": "code",
   "execution_count": 34,
   "id": "73089671",
   "metadata": {},
   "outputs": [],
   "source": [
    "def generate_population(population):    \n",
    "    new_population = []\n",
    "\n",
    "    for _ in range(nparents//2):\n",
    "        p1, p2 = choose_parent(), choose_parent()\n",
    "        ch1, ch2 = crossover(p1, p2)\n",
    "        new_population.append(ch1)\n",
    "        new_population.append(ch2)\n",
    "\n",
    "    for _ in range(int(p_trans - len(new_population))):\n",
    "        ind = candidates[np.random.randint(0,r)]\n",
    "        new_ind = mutation(ind)\n",
    "        new_population.append(new_ind)   \n",
    "        \n",
    "    return new_population    "
   ]
  },
  {
   "cell_type": "code",
   "execution_count": 35,
   "id": "0dccbf6a",
   "metadata": {},
   "outputs": [
    {
     "data": {
      "text/plain": [
       "200"
      ]
     },
     "execution_count": 35,
     "metadata": {},
     "output_type": "execute_result"
    }
   ],
   "source": [
    "new_population = generate_population(population)\n",
    "len(new_population)"
   ]
  },
  {
   "cell_type": "markdown",
   "id": "5a25c76d",
   "metadata": {},
   "source": [
    "### 1.5. Selection"
   ]
  },
  {
   "cell_type": "markdown",
   "id": "f936b057",
   "metadata": {},
   "source": [
    "Из промежуточного поколения отбираются $p$ лучших особей для последующего улучшения и генерации следующих поколений."
   ]
  },
  {
   "cell_type": "code",
   "execution_count": 36,
   "id": "0a96d6df",
   "metadata": {},
   "outputs": [
    {
     "data": {
      "text/plain": [
       "100"
      ]
     },
     "execution_count": 36,
     "metadata": {},
     "output_type": "execute_result"
    }
   ],
   "source": [
    "# new_population = generate_population(population)\n",
    "population = sorted(new_population, key = lambda i: i.fitness() )[:p]\n",
    "len(population)"
   ]
  },
  {
   "cell_type": "markdown",
   "id": "7ff940d0",
   "metadata": {},
   "source": [
    "### 1.6. Local improvement procedure"
   ]
  },
  {
   "cell_type": "markdown",
   "id": "330dfbf2",
   "metadata": {},
   "source": [
    "После каждого отбора для каждого индивида запускается локальная оптимизация. Она бывает трех видов: \n",
    "\n",
    "- 1-change : из индивида выбирается случайная позиция и значение по этой позиции меняется на другое (случайно выбранное). Если это улучшает фитнесс, изменение принимается\n",
    "\n",
    "- 2-change : из индивида выбираются две случайные позиции и значения на этих позициях меняются местами. Если это улучшает фитнесс, изменение принимается\n",
    "\n",
    "- 3-change : из индивида выбираются три случайные позиции и значения на этих позициях меняются местами (сдвигаются циклически). Если это улучшает фитнесс, изменение принимается\n",
    "\n",
    "Все три процесса применяются один за другим к каждому индивиду в популяции. "
   ]
  },
  {
   "cell_type": "code",
   "execution_count": 37,
   "id": "206f4f16",
   "metadata": {},
   "outputs": [],
   "source": [
    "def one_change(ind):\n",
    "    \n",
    "    # выбираем случайную позицию\n",
    "    val = ind.value\n",
    "    pos = np.random.randint(0, n)\n",
    "    old_group = val[pos]\n",
    "    \n",
    "    # выбираем новую группу\n",
    "    a = list(range(k))\n",
    "    a.remove(old_group)\n",
    "    new_group = np.random.choice(a)\n",
    "    \n",
    "    # формируем нового индивида\n",
    "    new_val = val.copy()\n",
    "    new_val[pos] = new_group\n",
    "    new_ind = Individ(new_val, vectors)\n",
    "    \n",
    "    # сравниваем цф\n",
    "    if new_ind.fitness() < ind.fitness():\n",
    "        return new_ind\n",
    "    else: return ind"
   ]
  },
  {
   "cell_type": "code",
   "execution_count": 38,
   "id": "6451663e",
   "metadata": {},
   "outputs": [
    {
     "name": "stdout",
     "output_type": "stream",
     "text": [
      "0.5100841827887548\n",
      "0.5093049882895847\n"
     ]
    }
   ],
   "source": [
    "old = population[1]\n",
    "new = one_change(old)\n",
    "print(old.fitness())\n",
    "print(new.fitness())"
   ]
  },
  {
   "cell_type": "code",
   "execution_count": 39,
   "id": "8b5e7414",
   "metadata": {},
   "outputs": [],
   "source": [
    "def two_change(ind):\n",
    "    \n",
    "    # выбираем две случайные позиции\n",
    "    val = ind.value\n",
    "    pos1, pos2 = np.random.randint(0, n, 2)\n",
    "    g1, g2 = val[pos1], val[pos2]\n",
    "    \n",
    "    # формируем нового индивида\n",
    "    new_val = val.copy()\n",
    "    new_val[pos1] = g2\n",
    "    new_val[pos2] = g1\n",
    "    new_ind = Individ(new_val, vectors)\n",
    "    \n",
    "    # сравниваем цф\n",
    "    if new_ind.fitness() < ind.fitness():\n",
    "        return new_ind\n",
    "    else: return ind"
   ]
  },
  {
   "cell_type": "code",
   "execution_count": 40,
   "id": "6420a4c9",
   "metadata": {},
   "outputs": [
    {
     "name": "stdout",
     "output_type": "stream",
     "text": [
      "0.5275073473516263\n",
      "0.5275073473516263\n"
     ]
    }
   ],
   "source": [
    "old = population[2]\n",
    "new = one_change(old)\n",
    "print(old.fitness())\n",
    "print(new.fitness())"
   ]
  },
  {
   "cell_type": "code",
   "execution_count": 41,
   "id": "e2bd4007",
   "metadata": {},
   "outputs": [],
   "source": [
    "def three_change(ind):\n",
    "    \n",
    "    # выбираем три случайные позиции\n",
    "    val = ind.value\n",
    "    pos1, pos2, pos3 = np.random.randint(0, n, 3)\n",
    "    g1, g2, g3 = val[pos1], val[pos2], val[pos3] \n",
    "    \n",
    "    # формируем нового индивида\n",
    "    new_val = val.copy()\n",
    "    new_val[pos1] = g2\n",
    "    new_val[pos2] = g3\n",
    "    new_val[pos3] = g1\n",
    "    new_ind = Individ(new_val, vectors)\n",
    "    \n",
    "    # сравниваем цф\n",
    "    if new_ind.fitness() < ind.fitness():\n",
    "        return new_ind\n",
    "    else: \n",
    "        return ind"
   ]
  },
  {
   "cell_type": "code",
   "execution_count": 42,
   "id": "dfda0467",
   "metadata": {},
   "outputs": [
    {
     "name": "stdout",
     "output_type": "stream",
     "text": [
      "0.5283094876637837\n",
      "0.5283094876637837\n"
     ]
    }
   ],
   "source": [
    "old = population[3]\n",
    "new = one_change(old)\n",
    "print(old.fitness())\n",
    "print(new.fitness())"
   ]
  },
  {
   "cell_type": "code",
   "execution_count": 43,
   "id": "bb52ba18",
   "metadata": {},
   "outputs": [],
   "source": [
    "# все вместе\n",
    "def local_search(ind):\n",
    "    ind = one_change(ind)\n",
    "    ind = two_change(ind)\n",
    "    ind = three_change(ind)\n",
    "    return ind"
   ]
  },
  {
   "cell_type": "code",
   "execution_count": 44,
   "id": "f1a649fc",
   "metadata": {},
   "outputs": [
    {
     "name": "stdout",
     "output_type": "stream",
     "text": [
      "0.5283094876637837\n",
      "0.5283094876637837\n"
     ]
    }
   ],
   "source": [
    "old = population[3]\n",
    "new = local_search(old)\n",
    "print(old.fitness())\n",
    "print(new.fitness())"
   ]
  },
  {
   "cell_type": "markdown",
   "id": "dc9e1810",
   "metadata": {},
   "source": [
    "### 1.7. Go"
   ]
  },
  {
   "cell_type": "code",
   "execution_count": 45,
   "id": "da03db27",
   "metadata": {},
   "outputs": [
    {
     "name": "stdout",
     "output_type": "stream",
     "text": [
      "На жадный алгоритм ушло 39 секунд\n",
      "На генетический алгоритм ушло 115 секунд\n",
      "Всего 11 итераций\n"
     ]
    }
   ],
   "source": [
    "iter_n = 10 # количество итераций алгоритма\n",
    "\n",
    "# начальная популяция генерируется с помощью случайной генерации + жадного алгоритма\n",
    "before = datetime.datetime.now()\n",
    "population = get_initial_population(n-10)\n",
    "after = datetime.datetime.now()  \n",
    "\n",
    "print(f'На жадный алгоритм ушло {(after - before).seconds} секунд')\n",
    "\n",
    "best = max(population, key = lambda i: i.fitness() )\n",
    "fitness_vals = [best.fitness()]\n",
    "\n",
    "before = datetime.datetime.now()\n",
    "\n",
    "for _ in range(iter_n):\n",
    "    # генерируем новую популяцию\n",
    "    new_population = generate_population(population)\n",
    "    population = sorted(new_population, key = lambda i: i.fitness() )[:p]\n",
    "    \n",
    "    #улучшаем новую популяцию\n",
    "    population = [local_search(ind) for ind in population]\n",
    "    \n",
    "    # давайте на каждом шаге смотреть, какой будет фитнес у лучшего представителя\n",
    "    best = max(population, key = lambda i: i.fitness())\n",
    "    best_f = best.fitness()\n",
    "    \n",
    "    #критерий останова\n",
    "    if abs(best_f - fitness_vals[-1]) < 10**(-5):\n",
    "        break\n",
    "    else:\n",
    "        fitness_vals.append(best_f)\n",
    "        \n",
    "after = datetime.datetime.now()         \n",
    "    \n",
    "print(f'На генетический алгоритм ушло {(after - before).seconds} секунд')\n",
    "print(f'Всего {len(fitness_vals)} итераций')"
   ]
  },
  {
   "cell_type": "code",
   "execution_count": 46,
   "id": "490b287f",
   "metadata": {},
   "outputs": [
    {
     "data": {
      "image/png": "[encoded data removed]",
      "text/plain": [
       "<Figure size 432x288 with 1 Axes>"
      ]
     },
     "metadata": {
      "needs_background": "light"
     },
     "output_type": "display_data"
    }
   ],
   "source": [
    "plt.plot(range(len(fitness_vals)), fitness_vals)\n",
    "plt.plot(range(len(fitness_vals)), fitness_vals, 'ro')\n",
    "plt.ylabel('fitness')\n",
    "plt.xlabel('#iter')\n",
    "plt.show()"
   ]
  },
  {
   "cell_type": "code",
   "execution_count": 58,
   "id": "f2686787",
   "metadata": {},
   "outputs": [
    {
     "data": {
      "text/plain": [
       "array([1, 0, 1, ..., 2, 2, 1])"
      ]
     },
     "execution_count": 58,
     "metadata": {},
     "output_type": "execute_result"
    }
   ],
   "source": [
    "best.value"
   ]
  },
  {
   "cell_type": "code",
   "execution_count": 66,
   "id": "67e76eaa",
   "metadata": {},
   "outputs": [
    {
     "data": {
      "text/plain": [
       "0"
      ]
     },
     "execution_count": 66,
     "metadata": {},
     "output_type": "execute_result"
    }
   ],
   "source": [
    "np.random.randint(0, 1, size = (p,n)).max()"
   ]
  },
  {
   "cell_type": "code",
   "execution_count": null,
   "id": "9b6a6b4d",
   "metadata": {},
   "outputs": [],
   "source": []
  }
 ],
 "metadata": {
  "kernelspec": {
   "display_name": "Python 3 (ipykernel)",
   "language": "python",
   "name": "python3"
  },
  "language_info": {
   "codemirror_mode": {
    "name": "ipython",
    "version": 3
   },
   "file_extension": ".py",
   "mimetype": "text/x-python",
   "name": "python",
   "nbconvert_exporter": "python",
   "pygments_lexer": "ipython3",
   "version": "3.9.10"
  }
 },
 "nbformat": 4,
 "nbformat_minor": 5
}
